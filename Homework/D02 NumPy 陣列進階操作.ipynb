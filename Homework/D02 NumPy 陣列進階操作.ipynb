{
 "cells": [
  {
   "cell_type": "code",
   "execution_count": 2,
   "id": "tropical-scholarship",
   "metadata": {},
   "outputs": [],
   "source": [
    "import numpy as np"
   ]
  },
  {
   "cell_type": "markdown",
   "id": "proud-first",
   "metadata": {},
   "source": [
    "## Practice"
   ]
  },
  {
   "cell_type": "code",
   "execution_count": 5,
   "id": "nuclear-poultry",
   "metadata": {},
   "outputs": [],
   "source": [
    "a = np.array([[0,1,2,3], [4,5,6,7], [8,9,10,11]])"
   ]
  },
  {
   "cell_type": "code",
   "execution_count": 6,
   "id": "secret-clarity",
   "metadata": {},
   "outputs": [
    {
     "data": {
      "text/plain": [
       "array([ 0,  1,  2,  3,  4,  5,  6,  7,  8,  9, 10, 11])"
      ]
     },
     "execution_count": 6,
     "metadata": {},
     "output_type": "execute_result"
    }
   ],
   "source": [
    "a.flatten()"
   ]
  },
  {
   "cell_type": "code",
   "execution_count": 7,
   "id": "jewish-favorite",
   "metadata": {},
   "outputs": [
    {
     "data": {
      "text/plain": [
       "array([ 0,  1,  2,  3,  4,  5,  6,  7,  8,  9, 10, 11])"
      ]
     },
     "execution_count": 7,
     "metadata": {},
     "output_type": "execute_result"
    }
   ],
   "source": [
    "b = a.ravel()\n",
    "b"
   ]
  },
  {
   "cell_type": "code",
   "execution_count": 8,
   "id": "pleasant-emission",
   "metadata": {},
   "outputs": [],
   "source": [
    "b[3]=100"
   ]
  },
  {
   "cell_type": "code",
   "execution_count": 10,
   "id": "registered-crack",
   "metadata": {},
   "outputs": [
    {
     "data": {
      "text/plain": [
       "array([[  0,   1,   2, 100],\n",
       "       [  4,   5,   6,   7],\n",
       "       [  8,   9,  10,  11]])"
      ]
     },
     "execution_count": 10,
     "metadata": {},
     "output_type": "execute_result"
    }
   ],
   "source": [
    "a"
   ]
  },
  {
   "cell_type": "code",
   "execution_count": 11,
   "id": "excellent-nevada",
   "metadata": {},
   "outputs": [
    {
     "data": {
      "text/plain": [
       "array([  0,   1,   2, 100,   4,   5,   6,   7,   8,   9,  10,  11])"
      ]
     },
     "execution_count": 11,
     "metadata": {},
     "output_type": "execute_result"
    }
   ],
   "source": [
    "a.ravel(order='C') # by row"
   ]
  },
  {
   "cell_type": "code",
   "execution_count": 13,
   "id": "union-tonight",
   "metadata": {},
   "outputs": [
    {
     "data": {
      "text/plain": [
       "array([  0,   4,   8,   1,   5,   9,   2,   6,  10, 100,   7,  11])"
      ]
     },
     "execution_count": 13,
     "metadata": {},
     "output_type": "execute_result"
    }
   ],
   "source": [
    "a.ravel(order='F') # by column"
   ]
  },
  {
   "cell_type": "code",
   "execution_count": 27,
   "id": "embedded-province",
   "metadata": {},
   "outputs": [
    {
     "data": {
      "text/plain": [
       "array([ 0,  1,  2,  3,  4,  5,  6,  7,  8,  9, 10, 11, 12, 13, 14])"
      ]
     },
     "execution_count": 27,
     "metadata": {},
     "output_type": "execute_result"
    }
   ],
   "source": [
    "a = np.arange(15)\n",
    "a"
   ]
  },
  {
   "cell_type": "code",
   "execution_count": 28,
   "id": "fleet-aquatic",
   "metadata": {},
   "outputs": [
    {
     "data": {
      "text/plain": [
       "array([[ 0,  1,  2,  3,  4],\n",
       "       [ 5,  6,  7,  8,  9],\n",
       "       [10, 11, 12, 13, 14]])"
      ]
     },
     "execution_count": 28,
     "metadata": {},
     "output_type": "execute_result"
    }
   ],
   "source": [
    "a.reshape((3,5))"
   ]
  },
  {
   "cell_type": "code",
   "execution_count": 19,
   "id": "dynamic-empire",
   "metadata": {},
   "outputs": [
    {
     "data": {
      "text/plain": [
       "15"
      ]
     },
     "execution_count": 19,
     "metadata": {},
     "output_type": "execute_result"
    }
   ],
   "source": [
    "a.size"
   ]
  },
  {
   "cell_type": "code",
   "execution_count": 20,
   "id": "imposed-riding",
   "metadata": {},
   "outputs": [
    {
     "data": {
      "text/plain": [
       "array([[ 0,  1,  2],\n",
       "       [ 3,  4,  5],\n",
       "       [ 6,  7,  8],\n",
       "       [ 9, 10, 11],\n",
       "       [12, 13, 14]])"
      ]
     },
     "execution_count": 20,
     "metadata": {},
     "output_type": "execute_result"
    }
   ],
   "source": [
    "a.reshape(5, -1)"
   ]
  },
  {
   "cell_type": "code",
   "execution_count": 21,
   "id": "surface-baking",
   "metadata": {},
   "outputs": [
    {
     "data": {
      "text/plain": [
       "array([[0, 1],\n",
       "       [2, 3],\n",
       "       [4, 5]])"
      ]
     },
     "execution_count": 21,
     "metadata": {},
     "output_type": "execute_result"
    }
   ],
   "source": [
    "a = np.arange(6).reshape(3,2)\n",
    "a"
   ]
  },
  {
   "cell_type": "code",
   "execution_count": 23,
   "id": "seeing-official",
   "metadata": {},
   "outputs": [
    {
     "data": {
      "text/plain": [
       "array([1, 5, 9])"
      ]
     },
     "execution_count": 23,
     "metadata": {},
     "output_type": "execute_result"
    }
   ],
   "source": [
    "a.sum(axis=1)"
   ]
  },
  {
   "cell_type": "code",
   "execution_count": 24,
   "id": "occasional-connectivity",
   "metadata": {},
   "outputs": [
    {
     "data": {
      "text/plain": [
       "array([[0, 1],\n",
       "       [2, 3],\n",
       "       [4, 5],\n",
       "       [6, 7],\n",
       "       [8, 9]])"
      ]
     },
     "execution_count": 24,
     "metadata": {},
     "output_type": "execute_result"
    }
   ],
   "source": [
    "a = np.arange(10).reshape(5,2)\n",
    "a"
   ]
  },
  {
   "cell_type": "code",
   "execution_count": 25,
   "id": "portable-administration",
   "metadata": {},
   "outputs": [
    {
     "data": {
      "text/plain": [
       "array([[0, 1],\n",
       "       [2, 3],\n",
       "       [4, 5]])"
      ]
     },
     "execution_count": 25,
     "metadata": {},
     "output_type": "execute_result"
    }
   ],
   "source": [
    "b = np.arange(6).reshape(3,2)\n",
    "b"
   ]
  },
  {
   "cell_type": "code",
   "execution_count": 27,
   "id": "casual-cycle",
   "metadata": {},
   "outputs": [
    {
     "data": {
      "text/plain": [
       "array([[0, 1],\n",
       "       [2, 3],\n",
       "       [4, 5],\n",
       "       [6, 7],\n",
       "       [8, 9],\n",
       "       [0, 1],\n",
       "       [2, 3],\n",
       "       [4, 5]])"
      ]
     },
     "execution_count": 27,
     "metadata": {},
     "output_type": "execute_result"
    }
   ],
   "source": [
    "np.concatenate((a,b))"
   ]
  },
  {
   "cell_type": "code",
   "execution_count": 31,
   "id": "hydraulic-clarity",
   "metadata": {},
   "outputs": [
    {
     "data": {
      "text/plain": [
       "array([[0, 1],\n",
       "       [2, 3],\n",
       "       [4, 5],\n",
       "       [6, 7],\n",
       "       [8, 9]])"
      ]
     },
     "execution_count": 31,
     "metadata": {},
     "output_type": "execute_result"
    }
   ],
   "source": [
    "c = np.arange(10).reshape((5,2))\n",
    "c"
   ]
  },
  {
   "cell_type": "code",
   "execution_count": 37,
   "id": "marine-isolation",
   "metadata": {},
   "outputs": [
    {
     "data": {
      "text/plain": [
       "array([[[0, 1],\n",
       "        [2, 3],\n",
       "        [4, 5],\n",
       "        [6, 7],\n",
       "        [8, 9]],\n",
       "\n",
       "       [[0, 1],\n",
       "        [2, 3],\n",
       "        [4, 5],\n",
       "        [6, 7],\n",
       "        [8, 9]]])"
      ]
     },
     "execution_count": 37,
     "metadata": {},
     "output_type": "execute_result"
    }
   ],
   "source": [
    "np.stack((a,c), axis=0) # dimension will plus one"
   ]
  },
  {
   "cell_type": "code",
   "execution_count": 38,
   "id": "nasty-reaction",
   "metadata": {},
   "outputs": [
    {
     "data": {
      "text/plain": [
       "array([[[0, 1],\n",
       "        [0, 1]],\n",
       "\n",
       "       [[2, 3],\n",
       "        [2, 3]],\n",
       "\n",
       "       [[4, 5],\n",
       "        [4, 5]],\n",
       "\n",
       "       [[6, 7],\n",
       "        [6, 7]],\n",
       "\n",
       "       [[8, 9],\n",
       "        [8, 9]]])"
      ]
     },
     "execution_count": 38,
     "metadata": {},
     "output_type": "execute_result"
    }
   ],
   "source": [
    "np.stack((a,c), axis=1)"
   ]
  },
  {
   "cell_type": "code",
   "execution_count": 39,
   "id": "center-destiny",
   "metadata": {},
   "outputs": [
    {
     "data": {
      "text/plain": [
       "array([[0, 1, 0, 1],\n",
       "       [2, 3, 2, 3],\n",
       "       [4, 5, 4, 5],\n",
       "       [6, 7, 6, 7],\n",
       "       [8, 9, 8, 9]])"
      ]
     },
     "execution_count": 39,
     "metadata": {},
     "output_type": "execute_result"
    }
   ],
   "source": [
    "np.hstack((a,c))"
   ]
  },
  {
   "cell_type": "code",
   "execution_count": 40,
   "id": "exciting-directory",
   "metadata": {},
   "outputs": [
    {
     "data": {
      "text/plain": [
       "array([[0, 1],\n",
       "       [2, 3],\n",
       "       [4, 5],\n",
       "       [6, 7],\n",
       "       [8, 9],\n",
       "       [0, 1],\n",
       "       [2, 3],\n",
       "       [4, 5],\n",
       "       [6, 7],\n",
       "       [8, 9]])"
      ]
     },
     "execution_count": 40,
     "metadata": {},
     "output_type": "execute_result"
    }
   ],
   "source": [
    "np.vstack((a,c))"
   ]
  },
  {
   "cell_type": "code",
   "execution_count": 43,
   "id": "australian-flashing",
   "metadata": {},
   "outputs": [
    {
     "name": "stdout",
     "output_type": "stream",
     "text": [
      "0\n",
      "1\n",
      "2\n",
      "3\n",
      "4\n",
      "5\n",
      "6\n",
      "7\n",
      "8\n",
      "9\n"
     ]
    }
   ],
   "source": [
    "for i in a.flat:\n",
    "    print(i)"
   ]
  },
  {
   "cell_type": "code",
   "execution_count": 42,
   "id": "tight-assumption",
   "metadata": {},
   "outputs": [
    {
     "name": "stdout",
     "output_type": "stream",
     "text": [
      "[0 1]\n",
      "[2 3]\n",
      "[4 5]\n",
      "[6 7]\n",
      "[8 9]\n"
     ]
    }
   ],
   "source": [
    "for row in a:\n",
    "    print(row)"
   ]
  },
  {
   "cell_type": "code",
   "execution_count": 47,
   "id": "mathematical-garage",
   "metadata": {},
   "outputs": [
    {
     "data": {
      "text/plain": [
       "array([8, 9])"
      ]
     },
     "execution_count": 47,
     "metadata": {},
     "output_type": "execute_result"
    }
   ],
   "source": [
    "np.amax(a, axis=0)"
   ]
  },
  {
   "cell_type": "code",
   "execution_count": 48,
   "id": "homeless-forge",
   "metadata": {},
   "outputs": [
    {
     "data": {
      "text/plain": [
       "array([1, 3, 5, 7, 9])"
      ]
     },
     "execution_count": 48,
     "metadata": {},
     "output_type": "execute_result"
    }
   ],
   "source": [
    "np.amax(a, axis=1)"
   ]
  },
  {
   "cell_type": "code",
   "execution_count": 52,
   "id": "comprehensive-ecology",
   "metadata": {},
   "outputs": [
    {
     "data": {
      "text/plain": [
       "array([4, 4], dtype=int64)"
      ]
     },
     "execution_count": 52,
     "metadata": {},
     "output_type": "execute_result"
    }
   ],
   "source": [
    "np.argmax(a, axis=0)"
   ]
  },
  {
   "cell_type": "code",
   "execution_count": 54,
   "id": "behavioral-species",
   "metadata": {},
   "outputs": [
    {
     "data": {
      "text/plain": [
       "array([['N', 'N'],\n",
       "       ['N', 'N'],\n",
       "       ['N', 'N'],\n",
       "       ['Y', 'Y'],\n",
       "       ['Y', 'Y']], dtype='<U1')"
      ]
     },
     "execution_count": 54,
     "metadata": {},
     "output_type": "execute_result"
    }
   ],
   "source": [
    "np.where(a>5, \"Y\", \"N\")"
   ]
  },
  {
   "cell_type": "code",
   "execution_count": 9,
   "id": "monetary-english",
   "metadata": {},
   "outputs": [],
   "source": [
    "## sort"
   ]
  },
  {
   "cell_type": "code",
   "execution_count": 3,
   "id": "advance-senegal",
   "metadata": {},
   "outputs": [
    {
     "data": {
      "text/plain": [
       "array([[14,  5, 17, 14],\n",
       "       [ 7,  9, 15,  9],\n",
       "       [11, 15, 18,  0],\n",
       "       [ 1, 14,  4, 14],\n",
       "       [ 0, 19,  4,  9]])"
      ]
     },
     "execution_count": 3,
     "metadata": {},
     "output_type": "execute_result"
    }
   ],
   "source": [
    "b = np.random.randint(0, 20, size = (5,4))\n",
    "b"
   ]
  },
  {
   "cell_type": "code",
   "execution_count": 6,
   "id": "floating-block",
   "metadata": {},
   "outputs": [
    {
     "data": {
      "text/plain": [
       "array([[ 5, 14, 14, 17],\n",
       "       [ 7,  9,  9, 15],\n",
       "       [ 0, 11, 15, 18],\n",
       "       [ 1,  4, 14, 14],\n",
       "       [ 0,  4,  9, 19]])"
      ]
     },
     "execution_count": 6,
     "metadata": {},
     "output_type": "execute_result"
    }
   ],
   "source": [
    "np.sort(b) # default axis is 1"
   ]
  },
  {
   "cell_type": "code",
   "execution_count": 5,
   "id": "hairy-barbados",
   "metadata": {},
   "outputs": [
    {
     "data": {
      "text/plain": [
       "array([[ 0,  5,  4,  0],\n",
       "       [ 1,  9,  4,  9],\n",
       "       [ 7, 14, 15,  9],\n",
       "       [11, 15, 17, 14],\n",
       "       [14, 19, 18, 14]])"
      ]
     },
     "execution_count": 5,
     "metadata": {},
     "output_type": "execute_result"
    }
   ],
   "source": [
    "np.sort(b, axis=0)"
   ]
  },
  {
   "cell_type": "code",
   "execution_count": 8,
   "id": "moral-profit",
   "metadata": {},
   "outputs": [
    {
     "data": {
      "text/plain": [
       "array([[1, 0, 3, 2],\n",
       "       [0, 1, 3, 2],\n",
       "       [3, 0, 1, 2],\n",
       "       [0, 2, 1, 3],\n",
       "       [0, 2, 3, 1]], dtype=int64)"
      ]
     },
     "execution_count": 8,
     "metadata": {},
     "output_type": "execute_result"
    }
   ],
   "source": [
    "np.argsort(b) # 傳回第幾名"
   ]
  },
  {
   "cell_type": "code",
   "execution_count": 16,
   "id": "directed-tiger",
   "metadata": {},
   "outputs": [
    {
     "data": {
      "text/plain": [
       "(array([0, 0, 0, 1, 2, 2, 2, 3, 3, 4], dtype=int64),\n",
       " array([0, 2, 3, 2, 0, 1, 2, 1, 3, 1], dtype=int64))"
      ]
     },
     "execution_count": 16,
     "metadata": {},
     "output_type": "execute_result"
    }
   ],
   "source": [
    "np.where(b>10)"
   ]
  },
  {
   "cell_type": "markdown",
   "id": "champion-joining",
   "metadata": {},
   "source": [
    "## Homework"
   ]
  },
  {
   "cell_type": "raw",
   "id": "rough-bulgaria",
   "metadata": {},
   "source": [
    "作業目標\n",
    "熟悉陣列維度轉換，並且會擷取需要資料\n",
    "作業重點\n",
    "使用reshap須注意order用法\n",
    "where可以運用邏輯條件擷取資料\n",
    "\n",
    "題目:\n",
    "1.將下列陣列(array1)，轉成維度為(5X6)的array，順序按列填充。(hint:order=\"F\")\n",
    "2.呈上題的array，找出被6除餘1的數的索引"
   ]
  },
  {
   "cell_type": "code",
   "execution_count": 17,
   "id": "architectural-alberta",
   "metadata": {},
   "outputs": [],
   "source": [
    "#1.將下列清單(list1)，轉成維度為(5X6)的array，順序按列填充。(hint:order=\"F\")\n",
    "array1 = np.array(range(30))"
   ]
  },
  {
   "cell_type": "code",
   "execution_count": 31,
   "id": "distant-internet",
   "metadata": {},
   "outputs": [
    {
     "data": {
      "text/plain": [
       "array([[ 0,  5, 10, 15, 20, 25],\n",
       "       [ 1,  6, 11, 16, 21, 26],\n",
       "       [ 2,  7, 12, 17, 22, 27],\n",
       "       [ 3,  8, 13, 18, 23, 28],\n",
       "       [ 4,  9, 14, 19, 24, 29]])"
      ]
     },
     "execution_count": 31,
     "metadata": {},
     "output_type": "execute_result"
    }
   ],
   "source": [
    "array2 = array1.reshape((5,6), order='F') # by row is order='C'\n",
    "array2"
   ]
  },
  {
   "cell_type": "code",
   "execution_count": 3,
   "id": "stupid-mother",
   "metadata": {},
   "outputs": [],
   "source": [
    "#2.呈上題的array，找出被6除餘1的數的索引"
   ]
  },
  {
   "cell_type": "code",
   "execution_count": 40,
   "id": "spread-makeup",
   "metadata": {},
   "outputs": [
    {
     "data": {
      "text/plain": [
       "array([['N', 'N', 'N', 'N', 'N', 'Y'],\n",
       "       ['Y', 'N', 'N', 'N', 'N', 'N'],\n",
       "       ['N', 'Y', 'N', 'N', 'N', 'N'],\n",
       "       ['N', 'N', 'Y', 'N', 'N', 'N'],\n",
       "       ['N', 'N', 'N', 'Y', 'N', 'N']], dtype='<U1')"
      ]
     },
     "execution_count": 40,
     "metadata": {},
     "output_type": "execute_result"
    }
   ],
   "source": [
    "np.where(array2 % 6 == 1, \"Y\", \"N\")"
   ]
  },
  {
   "cell_type": "code",
   "execution_count": 41,
   "id": "desirable-stephen",
   "metadata": {},
   "outputs": [
    {
     "data": {
      "text/plain": [
       "(array([0, 1, 2, 3, 4], dtype=int64), array([5, 0, 1, 2, 3], dtype=int64))"
      ]
     },
     "execution_count": 41,
     "metadata": {},
     "output_type": "execute_result"
    }
   ],
   "source": [
    "np.where (array2 % 6 == 1)"
   ]
  }
 ],
 "metadata": {
  "kernelspec": {
   "display_name": "Python 3",
   "language": "python",
   "name": "python3"
  },
  "language_info": {
   "codemirror_mode": {
    "name": "ipython",
    "version": 3
   },
   "file_extension": ".py",
   "mimetype": "text/x-python",
   "name": "python",
   "nbconvert_exporter": "python",
   "pygments_lexer": "ipython3",
   "version": "3.9.0"
  }
 },
 "nbformat": 4,
 "nbformat_minor": 5
}
