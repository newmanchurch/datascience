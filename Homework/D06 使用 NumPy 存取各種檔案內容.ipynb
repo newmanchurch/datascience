{
 "cells": [
  {
   "cell_type": "markdown",
   "id": "crude-neighborhood",
   "metadata": {},
   "source": [
    "## Practice"
   ]
  },
  {
   "cell_type": "code",
   "execution_count": 2,
   "id": "correct-replacement",
   "metadata": {},
   "outputs": [],
   "source": [
    "import numpy as np"
   ]
  },
  {
   "cell_type": "code",
   "execution_count": 4,
   "id": "regional-description",
   "metadata": {},
   "outputs": [],
   "source": [
    "with open('data/one_array.npy', 'wb') as f:\n",
    "    np.save(f, np.array([1, 2]))"
   ]
  },
  {
   "cell_type": "code",
   "execution_count": 5,
   "id": "cellular-hollywood",
   "metadata": {},
   "outputs": [
    {
     "data": {
      "text/plain": [
       "array([1, 2])"
      ]
     },
     "execution_count": 5,
     "metadata": {},
     "output_type": "execute_result"
    }
   ],
   "source": [
    "np.load('data/one_array.npy')"
   ]
  },
  {
   "cell_type": "code",
   "execution_count": 6,
   "id": "technological-authority",
   "metadata": {},
   "outputs": [],
   "source": [
    "with open('data/test.npy', 'wb') as f:\n",
    "    np.save(f, np.array([1, 2]))\n",
    "    np.save(f, np.array([1, 3]))\n",
    "    np.save(f, np.array([1, 4]))\n",
    "    np.save(f, np.array([1, 3]))"
   ]
  },
  {
   "cell_type": "code",
   "execution_count": 8,
   "id": "crude-northern",
   "metadata": {},
   "outputs": [
    {
     "name": "stdout",
     "output_type": "stream",
     "text": [
      "[1 2] [1 3] [1 4] [1 3]\n"
     ]
    }
   ],
   "source": [
    "with open('data/test.npy', 'rb') as f:\n",
    "    a = np.load(f)\n",
    "    b = np.load(f)\n",
    "    c = np.load(f)\n",
    "    d = np.load(f)\n",
    "\n",
    "print(a, b, c, d)"
   ]
  },
  {
   "cell_type": "code",
   "execution_count": 9,
   "id": "surrounded-focus",
   "metadata": {},
   "outputs": [],
   "source": [
    "x = np.arange(10)\n",
    "y = np.array([1, 2, 3])\n",
    "z = np.random.rand(10)\n",
    "\n",
    "with open('data/multi_array.npz', 'wb') as f:\n",
    "    np.savez(f, array1=x, array2=y, array3=z)"
   ]
  },
  {
   "cell_type": "code",
   "execution_count": 11,
   "id": "sublime-album",
   "metadata": {},
   "outputs": [
    {
     "data": {
      "text/plain": [
       "numpy.lib.npyio.NpzFile"
      ]
     },
     "execution_count": 11,
     "metadata": {},
     "output_type": "execute_result"
    }
   ],
   "source": [
    "npzfile = np.load('data/multi_array.npz')\n",
    "type(npzfile)"
   ]
  },
  {
   "cell_type": "code",
   "execution_count": 12,
   "id": "traditional-restaurant",
   "metadata": {},
   "outputs": [
    {
     "data": {
      "text/plain": [
       "['array1', 'array2', 'array3']"
      ]
     },
     "execution_count": 12,
     "metadata": {},
     "output_type": "execute_result"
    }
   ],
   "source": [
    "npzfile.files"
   ]
  },
  {
   "cell_type": "code",
   "execution_count": 13,
   "id": "military-rental",
   "metadata": {},
   "outputs": [
    {
     "name": "stdout",
     "output_type": "stream",
     "text": [
      "[0 1 2 3 4 5 6 7 8 9]\n",
      "[1 2 3]\n",
      "[0.40322843 0.02185221 0.14451943 0.35145567 0.99265446 0.06271776\n",
      " 0.94902681 0.55665965 0.66941177 0.51372589]\n"
     ]
    }
   ],
   "source": [
    "print(npzfile['array1'])\n",
    "print(npzfile['array2'])\n",
    "print(npzfile['array3'])"
   ]
  },
  {
   "cell_type": "raw",
   "id": "extraordinary-rebate",
   "metadata": {},
   "source": [
    "2.1 numpy.savetxt()\n",
    "savetxt() 可將一維或是二維陣列儲存到文字檔，並且可以設定元素值的格式、分隔符號、換行字元、檔頭 (header)、檔尾 (footer)、檔案字元編碼... 等引數。\n",
    "\n",
    "函式的用法如下：\n",
    "\n",
    "numpy.savetxt(fname, X, fmt='%.18e', delimiter=' ', newline='n', header='', footer='', comments='# ', encoding=None)\n",
    "引數的定義如下表：其中僅 fname 是必輸欄位。\n",
    "\n",
    "引數名稱\t定義\t預設值\n",
    "fname\t檔案名稱\t\n",
    "X\t要儲存的一維或二維陣列\t\n",
    "fmt\t陣列元素的格式，例如科學記號的格式定義(%1.4e)、整數(%d)、浮點數(%f)...\t%.18e\n",
    "delimiter\t分隔符號\t空格\n",
    "newline\t換行字元\tn\n",
    "header\t檔頭註解文字\t空字串\n",
    "footer\t檔尾註解文字\t空字串\n",
    "comments\t註解文字的前綴字元或字串\t#加一空格\n",
    "encoding\t檔案的字元編碼\tNone"
   ]
  },
  {
   "cell_type": "code",
   "execution_count": 3,
   "id": "convenient-glossary",
   "metadata": {},
   "outputs": [
    {
     "data": {
      "text/plain": [
       "array([0., 1., 2., 3., 4.])"
      ]
     },
     "execution_count": 3,
     "metadata": {},
     "output_type": "execute_result"
    }
   ],
   "source": [
    "x = y = z = np.arange(0.0,5.0,1.0)\n",
    "x"
   ]
  },
  {
   "cell_type": "code",
   "execution_count": 5,
   "id": "dramatic-traveler",
   "metadata": {},
   "outputs": [
    {
     "data": {
      "text/plain": [
       "array([[0, 1, 2, 3, 4],\n",
       "       [5, 6, 7, 8, 9]])"
      ]
     },
     "execution_count": 5,
     "metadata": {},
     "output_type": "execute_result"
    }
   ],
   "source": [
    "y = np.arange(10).reshape(2, 5)\n",
    "y"
   ]
  },
  {
   "cell_type": "code",
   "execution_count": 6,
   "id": "driving-government",
   "metadata": {},
   "outputs": [],
   "source": [
    "np.savetxt('data/test.out', [x], delimiter=',')"
   ]
  },
  {
   "cell_type": "code",
   "execution_count": 7,
   "id": "single-sunglasses",
   "metadata": {},
   "outputs": [],
   "source": [
    "# %load data/test.out\n",
    "0.000000000000000000e+00,1.000000000000000000e+00,2.000000000000000000e+00,3.000000000000000000e+00,4.000000000000000000e+00\n"
   ]
  },
  {
   "cell_type": "code",
   "execution_count": 8,
   "id": "funky-proportion",
   "metadata": {},
   "outputs": [],
   "source": [
    "np.savetxt('data/test.gz', [x], delimiter=',')"
   ]
  },
  {
   "cell_type": "code",
   "execution_count": 9,
   "id": "leading-arnold",
   "metadata": {},
   "outputs": [],
   "source": [
    "np.savetxt('data/test.csv', y, delimiter=',')"
   ]
  },
  {
   "cell_type": "code",
   "execution_count": 10,
   "id": "naked-borough",
   "metadata": {},
   "outputs": [],
   "source": [
    "# %load data/test.csv\n",
    "0.000000000000000000e+00,1.000000000000000000e+00,2.000000000000000000e+00,3.000000000000000000e+00,4.000000000000000000e+00\n",
    "5.000000000000000000e+00,6.000000000000000000e+00,7.000000000000000000e+00,8.000000000000000000e+00,9.000000000000000000e+00\n"
   ]
  },
  {
   "cell_type": "code",
   "execution_count": 12,
   "id": "surprised-analyst",
   "metadata": {},
   "outputs": [],
   "source": [
    "np.savetxt('data/test.out', x, fmt='%1.4e', delimiter=',', header='this is,\\nheader', footer='this is footer')"
   ]
  },
  {
   "cell_type": "code",
   "execution_count": 13,
   "id": "sixth-indication",
   "metadata": {},
   "outputs": [],
   "source": [
    "# %load data/test.out\n",
    "# this is,\n",
    "# header\n",
    "0.0000e+00\n",
    "1.0000e+00\n",
    "2.0000e+00\n",
    "3.0000e+00\n",
    "4.0000e+00\n",
    "# this is footer\n"
   ]
  },
  {
   "cell_type": "raw",
   "id": "prime-cement",
   "metadata": {},
   "source": [
    "2.2 numpy.loadtxt()\n",
    "函式的用法如下：\n",
    "\n",
    "numpy.loadtxt(fname, dtype=<class 'float'>, comments='#', delimiter=None, converters=None, skiprows=0, usecols=None, unpack=False, ndmin=0, encoding='bytes', max_rows=None)\n",
    "引數的定義如下表：其中僅 fname 是必輸欄位。\n",
    "\n",
    "引數名稱\t定義\t預設值\n",
    "fname\t檔案名稱\t\n",
    "dtype\t陣列的資料型別\tfloat\n",
    "comments\t註解文字的前綴字元或字串\t#\n",
    "delimiter\t分隔符號\tNone\n",
    "converters\t以字典型別定義 {column:轉換函式} key/value值\tNone\n",
    "skiprows\t讀取時要略過開頭的row數目(例如註解的行數)\t0\n",
    "usecols\t要讀取的column\tNone\n",
    "unpack\tbool值，如果是True的話，會轉置(transpose)輸出的陣列\tFalse\n",
    "ndmin\t設定傳回陣列的最低軸數\t0\n",
    "encoding\t檔案的字元編碼\tbytes\n",
    "max_rows\t在skiprows的row數目後，最大的讀取row數目，預設讀取所有資料\tNone\n",
    "loadtxt() 函式與稍後會介紹的 genfromtxt() 函式有一些相同的引數及功能，但是 genfromtxt() 功能更有彈性，所以相關的功能會一併在 genfromtxt() 中介紹。\n",
    "\n",
    "讀取儲存成文字檔的陣列時，使用 loadtxt() 載入，下面例子是載入我們上面儲存的 test.out 文字檔。這邊可以看到載入寺預設的資料型別是 float，而原先儲存時使用的科學記號格式，在載入時被轉換為浮點數格式。\n",
    "\n",
    "呼叫時可用 delimiter 引數指定分隔符號來正確載入陣列資料。\n",
    "\n",
    "在 dtype 引數中 f4 代表的是浮點數 4 bytes，也就是 float32。"
   ]
  },
  {
   "cell_type": "code",
   "execution_count": 14,
   "id": "designed-manitoba",
   "metadata": {},
   "outputs": [
    {
     "data": {
      "text/plain": [
       "array([0., 1., 2., 3., 4.], dtype=float32)"
      ]
     },
     "execution_count": 14,
     "metadata": {},
     "output_type": "execute_result"
    }
   ],
   "source": [
    "np.loadtxt('data/test.out', delimiter=',', dtype='f4')"
   ]
  },
  {
   "cell_type": "raw",
   "id": "parliamentary-rochester",
   "metadata": {},
   "source": [
    "3. genfromtxt()\n",
    "跟 loadtxt() 相比，genfromtxt() 提供更 powerful 及更有彈性的功能，用來讀取文字檔格式的陣列。\n",
    "\n",
    "函式用法如下：\n",
    "\n",
    "numpy.genfromtxt(fname, dtype=<class 'float'>, comments='#', delimiter=None, skip_header=0, skip_footer=0, converters=None, missing_values=None, filling_values=None, usecols=None, names=None, excludelist=None, deletechars=\" !#$%&'()*+, -./:;<=>?@[\\]^{|}~\", replace_space='_', autostrip=False, case_sensitive=True, defaultfmt='f%i', unpack=None, usemask=False, loose=True, invalid_raise=True, max_rows=None, encoding='bytes')\n",
    "引數的定義如下表：其中僅 fname 是必輸欄位。\n",
    "\n",
    "引數名稱\t定義\t預設值\n",
    "fname\t檔案名稱或是輸入資料\t\n",
    "dtype\t陣列的資料型別\tfloat\n",
    "comments\t註解文字的前綴字元或字串\t#\n",
    "delimiter\t分隔符號\tNone\n",
    "skip_header\t讀取時忽略的檔頭行數\t0\n",
    "skip_footer\t讀取時忽略的檔尾行數\t0\n",
    "converters\t以字典型別定義 {column:轉換函式} key/value值\tNone\n",
    "missing_values\t用來識別缺值的字串\tNone\n",
    "filling_values\t用來填入缺值的值\tNone\n",
    "usecols\t要讀取的column\tNone\n",
    "names\tcolumn名稱\tNone\n",
    "excludelist\t要排除的column名稱\tNone\n",
    "deletechars\t須從column名稱中刪除的字元\t#$%&'()*+, -./:;<=>?@[]^{\n",
    "replace_space\t要取代空格的字元\t_\n",
    "autostrip\t是否自動去空格\tFalse\n",
    "case_sensitive\t欄位名稱是否區分大小寫，可以設定True/False/upper(轉為大寫)/lower(轉為小寫)\tTrue\n",
    "defaultfmt\t如果names未定義完整名稱，defaultfmt可用來定義structured dtype的column名稱\tf%i\n",
    "unpack\tbool值，如果是True的話，會轉置(transpose)輸出的陣列\tFalse\n",
    "usemask\t如果是True的話，回傳masked array；否則回傳正常的array\tFalse\n",
    "loose\t如果是True的話，無效的值不會導致錯誤\tTrue\n",
    "invalid_raise\t設為True時，如果column數目不合會拋出exception；如果設為False的話，拋出warning並且跳過不合數目的資料\tTrue\n",
    "max_rows\t在skiprows的row數目後，最大的讀取row數目，預設讀取所有資料\tNone\n",
    "encoding\t檔案的字元編碼\tbytes"
   ]
  },
  {
   "cell_type": "code",
   "execution_count": 15,
   "id": "regulated-devon",
   "metadata": {},
   "outputs": [
    {
     "data": {
      "text/plain": [
       "array([[0., 1., 2., 3., 4.],\n",
       "       [5., 6., 7., 8., 9.]])"
      ]
     },
     "execution_count": 15,
     "metadata": {},
     "output_type": "execute_result"
    }
   ],
   "source": [
    "np.genfromtxt(\"data/test.csv\", delimiter=\",\")"
   ]
  },
  {
   "cell_type": "code",
   "execution_count": 16,
   "id": "swiss-stopping",
   "metadata": {},
   "outputs": [
    {
     "data": {
      "text/plain": [
       "array([0., 1., 2., 3., 4.])"
      ]
     },
     "execution_count": 16,
     "metadata": {},
     "output_type": "execute_result"
    }
   ],
   "source": [
    "np.genfromtxt(\"data/test.gz\", delimiter=\",\")"
   ]
  },
  {
   "cell_type": "code",
   "execution_count": null,
   "id": "manual-dress",
   "metadata": {},
   "outputs": [],
   "source": []
  },
  {
   "cell_type": "markdown",
   "id": "tamil-agreement",
   "metadata": {},
   "source": [
    "## HW"
   ]
  },
  {
   "cell_type": "raw",
   "id": "posted-shakespeare",
   "metadata": {},
   "source": [
    "作業目標\n",
    "讀取存取陣列資料\n",
    "作業重點\n",
    "多陣列存一起需要存成npz，讀取須注意npz中有多個陣列\n",
    "\n",
    "題目:\n",
    "\n",
    "將下兩列array存成npz檔\n",
    "array1 = np.array(range(30))\n",
    "array2 = np.array([2,3,5])\n",
    "讀取剛剛的npz檔，加入下列array一起存成新的npz檔"
   ]
  },
  {
   "cell_type": "code",
   "execution_count": 17,
   "id": "inclusive-questionnaire",
   "metadata": {},
   "outputs": [],
   "source": [
    "#. 將下兩列array存成npz檔\n",
    "array1 = np.array(range(30))\n",
    "array2 = np.array([2,3,5])"
   ]
  },
  {
   "cell_type": "code",
   "execution_count": 28,
   "id": "organizational-hammer",
   "metadata": {},
   "outputs": [],
   "source": [
    "with open('data/hw_multi_array.npz', 'wb') as f:\n",
    "    np.savez(f, array1=array1, array2=array2)"
   ]
  },
  {
   "cell_type": "code",
   "execution_count": 1,
   "id": "coordinate-cookie",
   "metadata": {},
   "outputs": [],
   "source": [
    "#2. 讀取剛剛的npz檔，加入下列array一起存成新的npz檔"
   ]
  },
  {
   "cell_type": "code",
   "execution_count": 29,
   "id": "located-sample",
   "metadata": {},
   "outputs": [
    {
     "data": {
      "text/plain": [
       "['array1', 'array2']"
      ]
     },
     "execution_count": 29,
     "metadata": {},
     "output_type": "execute_result"
    }
   ],
   "source": [
    "npzfile = np.load('data/hw_multi_array.npz')\n",
    "type(npzfile)\n",
    "npzfile.files"
   ]
  },
  {
   "cell_type": "code",
   "execution_count": 23,
   "id": "freelance-china",
   "metadata": {},
   "outputs": [],
   "source": [
    "array3 = np.array([7,8,9])"
   ]
  },
  {
   "cell_type": "code",
   "execution_count": 26,
   "id": "particular-heading",
   "metadata": {},
   "outputs": [],
   "source": [
    "with open('data/hw_multi_array_new.npz', 'wb') as f:\n",
    "    np.savez(f, array1=array1, array2=array2, array3=array3)"
   ]
  },
  {
   "cell_type": "code",
   "execution_count": 27,
   "id": "governing-undergraduate",
   "metadata": {},
   "outputs": [
    {
     "data": {
      "text/plain": [
       "['array1', 'array2', 'array3']"
      ]
     },
     "execution_count": 27,
     "metadata": {},
     "output_type": "execute_result"
    }
   ],
   "source": [
    "npzfile = np.load('data/hw_multi_array_new.npz')\n",
    "type(npzfile)\n",
    "npzfile.files"
   ]
  },
  {
   "cell_type": "code",
   "execution_count": null,
   "id": "outer-louisiana",
   "metadata": {},
   "outputs": [],
   "source": []
  }
 ],
 "metadata": {
  "kernelspec": {
   "display_name": "Python 3",
   "language": "python",
   "name": "python3"
  },
  "language_info": {
   "codemirror_mode": {
    "name": "ipython",
    "version": 3
   },
   "file_extension": ".py",
   "mimetype": "text/x-python",
   "name": "python",
   "nbconvert_exporter": "python",
   "pygments_lexer": "ipython3",
   "version": "3.9.0"
  }
 },
 "nbformat": 4,
 "nbformat_minor": 5
}
